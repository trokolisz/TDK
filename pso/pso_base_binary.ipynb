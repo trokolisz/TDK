{
 "cells": [
  {
   "cell_type": "code",
   "execution_count": 141,
   "metadata": {},
   "outputs": [],
   "source": [
    "import numpy as np\n",
    "import random\n",
    "import matplotlib.pyplot as plt\n"
   ]
  },
  {
   "cell_type": "markdown",
   "metadata": {},
   "source": []
  },
  {
   "cell_type": "code",
   "execution_count": 142,
   "metadata": {},
   "outputs": [],
   "source": [
    "num_particles = 12\n",
    "iterations = 100\n",
    "\n",
    "w = 1.0      # inertia weight\n",
    "c1 = 2.5     # cognitive component\n",
    "c2 = 0.5     #social component\n",
    "\n",
    "\n",
    "plane_width = 24\n",
    "plane_height = 8"
   ]
  },
  {
   "cell_type": "code",
   "execution_count": 143,
   "metadata": {},
   "outputs": [],
   "source": [
    "cost = 20\n",
    "production = 10\n",
    "\n",
    "N = 10"
   ]
  },
  {
   "cell_type": "code",
   "execution_count": 144,
   "metadata": {},
   "outputs": [],
   "source": [
    "def visualize_matrix(matrix, title=\"Binary Matrix\"):\n",
    "    plt.figure(figsize=(5, 3))\n",
    "    plt.imshow(matrix, cmap='binary', interpolation='nearest')\n",
    "    plt.colorbar()\n",
    "    plt.title(title)\n",
    "    plt.show()"
   ]
  },
  {
   "cell_type": "code",
   "execution_count": 145,
   "metadata": {},
   "outputs": [],
   "source": [
    "particles = np.random.uniform(low=0, high=1, size=(num_particles, plane_height, plane_width ))\n",
    "particles = np.where(particles < 0.5, 0, 1)\n",
    "\n",
    "velocities = np.zeros((num_particles, plane_height, plane_width))\n",
    "\n",
    "pbest = np.copy(particles)\n",
    "pbest_scores = np.array([-np.inf] * num_particles)\n",
    "gbest_score = -np.inf\n",
    "gbest = particles[0]"
   ]
  },
  {
   "cell_type": "code",
   "execution_count": 146,
   "metadata": {},
   "outputs": [],
   "source": [
    "def evaluate(particle):\n",
    "    my_production = 0\n",
    "    my_production += np.sum(np.indices(particle.shape) * particle)\n",
    "    #print(my_production)\n",
    "    \n",
    "    return my_production\n",
    "\n"
   ]
  },
  {
   "cell_type": "code",
   "execution_count": 154,
   "metadata": {},
   "outputs": [
    {
     "name": "stdout",
     "output_type": "stream",
     "text": [
      "328\n",
      "177\n",
      "173\n",
      "161\n",
      "177\n",
      "191\n",
      "149\n",
      "129\n",
      "231\n",
      "156\n",
      "151\n",
      "158\n",
      "148\n",
      "155\n",
      "181\n",
      "244\n",
      "183\n",
      "185\n",
      "217\n",
      "147\n",
      "139\n",
      "149\n",
      "157\n",
      "162\n",
      "160\n",
      "293\n",
      "199\n",
      "285\n",
      "176\n",
      "241\n",
      "241\n",
      "172\n",
      "172\n",
      "298\n",
      "191\n",
      "178\n",
      "177\n",
      "233\n",
      "341\n",
      "181\n",
      "302\n",
      "325\n",
      "325\n",
      "194\n",
      "186\n",
      "147\n",
      "169\n",
      "177\n",
      "165\n",
      "189\n",
      "205\n",
      "175\n",
      "184\n",
      "250\n",
      "357\n",
      "190\n",
      "216\n",
      "186\n",
      "209\n",
      "172\n",
      "162\n",
      "142\n",
      "217\n",
      "117\n",
      "158\n",
      "155\n",
      "133\n",
      "151\n",
      "242\n",
      "147\n",
      "135\n",
      "155\n",
      "177\n",
      "272\n",
      "171\n",
      "211\n",
      "264\n",
      "171\n",
      "239\n",
      "140\n",
      "148\n",
      "205\n",
      "196\n",
      "321\n",
      "195\n",
      "260\n",
      "177\n",
      "236\n",
      "186\n",
      "255\n",
      "193\n",
      "136\n",
      "184\n",
      "199\n",
      "288\n",
      "178\n",
      "224\n",
      "145\n",
      "148\n",
      "189\n"
     ]
    }
   ],
   "source": [
    "for _ in range(iterations):\n",
    "    for i in range(num_particles):\n",
    "        fitness = evaluate(particles[i])\n",
    "        if fitness > pbest_scores[i]:\n",
    "            pbest_scores[i] = fitness\n",
    "            pbest[i] = particles[i]\n",
    "        if fitness > gbest_score:\n",
    "            gbest_score = fitness\n",
    "            gbest = particles[i]\n",
    "\n",
    "    for i in range(num_particles):\n",
    "        # Sebesség frissítése\n",
    "\n",
    "        velocities[i] = w * velocities[i] + c1 * np.random.rand() * (pbest[i] - particles[i]) + c2 * np.random.rand() * (gbest - particles[i])\n",
    "        #visualize_matrix(velocities[i], title=f\"Velocity of particle {i} at iteration {_}\")\n",
    "        flat_indices = np.argsort(velocities[i].ravel())[::-1]\n",
    "        threshold_index = flat_indices[N]  # Get the index of the N-th largest value\n",
    "        threshold_value = velocities[i].ravel()[threshold_index]\n",
    "        \n",
    "        # Create a binary matrix based on the threshold value\n",
    "        binary_matrix = np.where(velocities[i] >= threshold_value, 1, 0)\n",
    "        \n",
    "        # In case of tie, randomly assign 1s to the tied values\n",
    "        tied_indices = np.where(velocities[i] == threshold_value)\n",
    "        num_tied = len(tied_indices[0])\n",
    "        if num_tied > N:\n",
    "            chosen_indices = np.random.choice(num_tied, N, replace=False)\n",
    "            binary_matrix[tied_indices] = 0\n",
    "            binary_matrix[tied_indices[0][chosen_indices], tied_indices[1][chosen_indices]] = 1\n",
    "        \n",
    "        velocities[i] = binary_matrix\n",
    "        #visualize_matrix(velocities[i], title=f\"Velocity of particle {i} at iteration {_}\")\n",
    "\n",
    "\n",
    "        particles[i] = particles[i].astype(np.float64) + velocities[i]\n",
    "        # Convert velocities[i] to a binary matrix\n",
    "\n",
    "\n",
    "        flat_indices = np.argsort(particles[i].ravel())[::-1]\n",
    "        threshold_index = flat_indices[N]  # Get the index of the N-th largest value\n",
    "        threshold_value = particles[i].ravel()[threshold_index]\n",
    "        \n",
    "        # Create a binary matrix based on the threshold value\n",
    "        binary_matrix = np.where(particles[i] >= threshold_value, 1, 0)\n",
    "        \n",
    "        # In case of tie, randomly assign 1s to the tied values\n",
    "        tied_indices = np.where(particles[i] == threshold_value)\n",
    "        num_tied = len(tied_indices[0])\n",
    "        if num_tied > N:\n",
    "            chosen_indices = np.random.choice(num_tied, N, replace=False)\n",
    "            binary_matrix[tied_indices] = 0\n",
    "            binary_matrix[tied_indices[0][chosen_indices], tied_indices[1][chosen_indices]] = 1\n",
    "        \n",
    "        particles[i] = binary_matrix\n",
    "    #visualize_matrix(gbest, title=f\"Best particle at iteration {_}\")\n",
    "    print(evaluate(gbest))\n",
    "        \n"
   ]
  },
  {
   "cell_type": "code",
   "execution_count": 148,
   "metadata": {},
   "outputs": [
    {
     "name": "stdout",
     "output_type": "stream",
     "text": [
      "Optimális pozíció (termelési mennyiségek): [[0 0 0 0 0 0 0 0 0 0 0 0 0 0 0 0 0 0 1 0 0 0 0 0]\n",
      " [1 0 0 0 0 0 0 0 0 0 0 0 0 0 0 0 0 0 0 0 0 0 0 0]\n",
      " [1 0 0 0 0 0 0 1 0 0 0 0 0 0 0 0 0 0 0 1 0 0 0 0]\n",
      " [0 0 0 0 0 1 0 0 0 0 0 0 0 0 0 0 0 0 0 0 0 0 0 0]\n",
      " [0 0 0 1 0 0 0 0 0 0 0 0 0 0 0 0 0 0 0 1 0 0 0 0]\n",
      " [0 0 0 0 0 0 0 0 0 0 0 0 0 0 0 0 0 0 0 0 0 0 1 0]\n",
      " [0 0 0 0 0 1 0 0 0 0 0 0 0 0 0 0 0 0 0 0 0 0 0 0]\n",
      " [0 0 0 0 0 0 0 0 0 0 0 0 0 0 0 0 0 0 0 0 0 0 0 0]]\n",
      "Maximális bevétel: 1768\n"
     ]
    }
   ],
   "source": [
    "print(\"Optimális pozíció (termelési mennyiségek):\", gbest)\n",
    "print(\"Maximális bevétel:\", gbest_score)"
   ]
  },
  {
   "cell_type": "code",
   "execution_count": 149,
   "metadata": {},
   "outputs": [
    {
     "data": {
      "image/png": "[encoded data removed]",
      "text/plain": [
       "<Figure size 500x300 with 2 Axes>"
      ]
     },
     "metadata": {},
     "output_type": "display_data"
    }
   ],
   "source": [
    "\n",
    "\n",
    "# Visualize the global best particle\n",
    "visualize_matrix(gbest, title=\"Global Best Particle\")"
   ]
  },
  {
   "cell_type": "code",
   "execution_count": 150,
   "metadata": {},
   "outputs": [
    {
     "data": {
      "text/plain": [
       "array([[0, 0, 0, 0, 0, 0, 0, 0, 0, 0, 0, 0, 0, 0, 1, 0, 1, 0, 1, 0, 0, 0,\n",
       "        0, 0],\n",
       "       [0, 0, 0, 0, 0, 0, 0, 0, 0, 0, 1, 0, 0, 0, 0, 0, 0, 0, 0, 0, 0, 0,\n",
       "        0, 0],\n",
       "       [0, 0, 0, 0, 0, 0, 0, 0, 0, 0, 0, 0, 0, 0, 0, 0, 0, 0, 0, 0, 0, 0,\n",
       "        0, 0],\n",
       "       [0, 0, 0, 0, 0, 0, 0, 0, 0, 0, 0, 0, 0, 1, 0, 0, 0, 0, 0, 1, 0, 1,\n",
       "        1, 0],\n",
       "       [0, 0, 0, 0, 0, 0, 0, 0, 0, 0, 0, 0, 0, 0, 0, 0, 0, 0, 0, 0, 0, 0,\n",
       "        0, 0],\n",
       "       [0, 0, 0, 0, 0, 0, 0, 0, 0, 0, 0, 0, 0, 0, 0, 0, 0, 0, 0, 0, 0, 0,\n",
       "        0, 0],\n",
       "       [0, 0, 0, 0, 0, 1, 0, 0, 0, 0, 0, 0, 0, 0, 0, 0, 0, 0, 0, 0, 0, 0,\n",
       "        1, 0],\n",
       "       [0, 0, 0, 0, 0, 0, 0, 0, 0, 0, 0, 0, 0, 0, 0, 0, 0, 0, 0, 0, 0, 0,\n",
       "        0, 0]])"
      ]
     },
     "execution_count": 150,
     "metadata": {},
     "output_type": "execute_result"
    }
   ],
   "source": [
    "particles[2] \n"
   ]
  }
 ],
 "metadata": {
  "kernelspec": {
   "display_name": "Python 3",
   "language": "python",
   "name": "python3"
  },
  "language_info": {
   "codemirror_mode": {
    "name": "ipython",
    "version": 3
   },
   "file_extension": ".py",
   "mimetype": "text/x-python",
   "name": "python",
   "nbconvert_exporter": "python",
   "pygments_lexer": "ipython3",
   "version": "3.12.6"
  }
 },
 "nbformat": 4,
 "nbformat_minor": 2
}
